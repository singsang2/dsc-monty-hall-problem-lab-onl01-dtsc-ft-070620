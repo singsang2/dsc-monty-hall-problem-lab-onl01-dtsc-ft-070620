{
 "cells": [
  {
   "cell_type": "markdown",
   "metadata": {},
   "source": [
    "# The Monty Hall Problem\n",
    "\n",
    "## Introduction\n",
    "\n",
    "The Monty Hall problem is a famous little puzzle from a game show. It goes like this: you are presented with 3 doors. Behind two are goats and behind the third is a car. You are asked to select a door; if you select the door with the car, you win! After selecting, the host then opens one of the remaining two doors, revealing a goat. The host then asks if you would like to switch doors or stick with your original choice. What would you do? Does it matter?\n",
    "\n",
    "<img src=\"images/Image_58_MontyHall.png\">\n",
    "\n",
    "## Objectives\n",
    "\n",
    "In this lab you will:\n",
    "\n",
    "- Use Bayes' theorem along with a simulation to solve the Monty Hall problem"
   ]
  },
  {
   "cell_type": "markdown",
   "metadata": {},
   "source": [
    "## Run a simulation\n",
    "\n",
    "This is not a traditional application of Bayes' theorem, so trying to formulate the problem as such is tricky at best. That said, the scenario does capture the motivating conception behind Bayesian statistics: updating our beliefs in the face of additional evidence. With this, you'll employ another frequently used tool Bayesians frequently employ, running simulations. To do this, generate a random integer between one and three to represent the door hiding the car. Then, generate a second integer between one and three representing the player's selection. Then, of those the contestant did not choose, select a door concealing a goat to reveal. Record the results of the simulated game if they changed versus if they did not. Repeat this process a thousand (or more) times. Finally, plot the results of your simulation as a line graph. The x-axis should be the number of simulations, and the y-axis should be the probability of winning. (There should be two lines on the graph, one for switching doors, and the other for keeping the original selection.)"
   ]
  },
  {
   "cell_type": "code",
   "execution_count": 2,
   "metadata": {
    "ExecuteTime": {
     "end_time": "2020-09-23T19:21:48.617215Z",
     "start_time": "2020-09-23T19:21:48.420564Z"
    }
   },
   "outputs": [],
   "source": [
    "# Your code here\n",
    "import numpy as np"
   ]
  },
  {
   "cell_type": "code",
   "execution_count": 39,
   "metadata": {
    "ExecuteTime": {
     "end_time": "2020-09-23T19:41:40.215301Z",
     "start_time": "2020-09-23T19:41:40.190963Z"
    }
   },
   "outputs": [
    {
     "name": "stdout",
     "output_type": "stream",
     "text": [
      "Winning Rate if the player stays with their choice:  0.324\n",
      "Winning Rate if the player changes their choice:  0.664\n"
     ]
    }
   ],
   "source": [
    "games_won_s = 0\n",
    "num_games = 1000\n",
    "for i in range(num_games):\n",
    "    game = Monty(strat = 'stay')\n",
    "    if game.play():\n",
    "        games_won_s += 1\n",
    "\n",
    "print('Winning Rate if the player stays with their choice: ', games_won_s/num_games)\n",
    "\n",
    "games_won_c=0\n",
    "for i in range(num_games):\n",
    "    game = Monty(strat = 'change')\n",
    "    if game.play():\n",
    "        games_won_c+= 1\n",
    "\n",
    "print('Winning Rate if the player changes their choice: ', games_won_c/num_games)"
   ]
  },
  {
   "cell_type": "code",
   "execution_count": 36,
   "metadata": {
    "ExecuteTime": {
     "end_time": "2020-09-23T19:41:34.681689Z",
     "start_time": "2020-09-23T19:41:34.671372Z"
    }
   },
   "outputs": [],
   "source": [
    "class Monty:\n",
    "    def __init__(self, strat = 'stay'):\n",
    "        self.generate_winning_num()\n",
    "        self.strat = strat\n",
    "        self.win = False\n",
    "    \n",
    "    def play(self):\n",
    "        self.generate_winning_num()\n",
    "        self.player_choose()\n",
    "        self.reveal_one()\n",
    "        self.final_choice(strat=self.strat)\n",
    "        return self.won()\n",
    "        \n",
    "    def generate_winning_num(self):\n",
    "        self.win_num = np.random.randint(1,3+1)\n",
    "        \n",
    "    def player_choose(self):\n",
    "        self.player = np.random.randint(1,3+1)\n",
    "    \n",
    "    def reveal_one(self):\n",
    "        possible_choices = [1, 2, 3]\n",
    "\n",
    "        possible_choices.remove(self.win_num)\n",
    "        if self.win_num != self.player:\n",
    "            possible_choices.remove(self.player)\n",
    "        self.reveal = possible_choices[np.random.randint(0, len(possible_choices))]\n",
    "    \n",
    "    def final_choice(self, strat):\n",
    "        if strat == 'stay':\n",
    "            if self.win_num == self.player:\n",
    "                self.win = True\n",
    "        elif strat == 'change':\n",
    "            if self.win_num != self.player:\n",
    "                self.win = True\n",
    "                \n",
    "    def won(self):\n",
    "        return self.win\n",
    "        "
   ]
  },
  {
   "cell_type": "markdown",
   "metadata": {},
   "source": [
    "## Summary\n",
    "\n",
    "In this lab, you further investigated the idea of Bayes' theorem and Bayesian statistics in general through the Monty Hall problem. Hopefully, this was an entertaining little experience! "
   ]
  }
 ],
 "metadata": {
  "kernelspec": {
   "display_name": "Python 3",
   "language": "python",
   "name": "python3"
  },
  "language_info": {
   "codemirror_mode": {
    "name": "ipython",
    "version": 3
   },
   "file_extension": ".py",
   "mimetype": "text/x-python",
   "name": "python",
   "nbconvert_exporter": "python",
   "pygments_lexer": "ipython3",
   "version": "3.6.9"
  },
  "toc": {
   "base_numbering": 1,
   "nav_menu": {},
   "number_sections": true,
   "sideBar": true,
   "skip_h1_title": false,
   "title_cell": "Table of Contents",
   "title_sidebar": "Contents",
   "toc_cell": false,
   "toc_position": {},
   "toc_section_display": true,
   "toc_window_display": false
  }
 },
 "nbformat": 4,
 "nbformat_minor": 2
}
